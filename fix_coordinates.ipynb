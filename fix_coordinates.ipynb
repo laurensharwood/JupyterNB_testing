{
 "cells": [
  {
   "cell_type": "code",
   "execution_count": 7,
   "id": "9ceb6075",
   "metadata": {},
   "outputs": [],
   "source": [
    "import pandas as pd"
   ]
  },
  {
   "cell_type": "code",
   "execution_count": 9,
   "id": "83205d1d",
   "metadata": {},
   "outputs": [],
   "source": [
    "def fix_X_coords(SHEET):\n",
    "    new_X = []\n",
    "    for i in SHEET['COORD. X'].apply(str):\n",
    "        numbers = filter(str.isdigit, i)\n",
    "        numeric_string = \"\".join(numbers)\n",
    "        numeric_string = numeric_string.replace(\".\", \"\", 10)\n",
    "        numeric_string = numeric_string.replace(\"-\", \"\")\n",
    "        numeric_string = numeric_string.replace(\":\", \"\")\n",
    "        numeric_string = numeric_string.replace(\"_\", \"\")\n",
    "        numeric_string = numeric_string.replace(\",\", \"\")\n",
    "        numeric_string = numeric_string.replace(\"°\", \"\")\n",
    "        meters_proj = numeric_string\n",
    "        if numeric_string[:2] == \"-2\" or numeric_string[:1] == \"2\" or numeric_string[:2] == \"+2\" or numeric_string[:2] == \"02\": ## or 5 for Y_coord, 2 for X_coord \n",
    "            numeric_string = numeric_string.replace(\" \", \"\", 10)\n",
    "            numeric_string = numeric_string.replace(\"_\", \"\", 10)\n",
    "            neg_numeric_string = \"-\" + numeric_string\n",
    "            coord = neg_numeric_string[:3] + \".\" + neg_numeric_string[3:]\n",
    "            new_X.append(coord)\n",
    "        else:\n",
    "            coord = meters_proj + \"m\"\n",
    "            new_X.append(coord)\n",
    "    SHEET[\"X_coord\"] = new_X\n",
    "    return(SHEET)"
   ]
  },
  {
   "cell_type": "code",
   "execution_count": 10,
   "id": "2b3d5cd4",
   "metadata": {},
   "outputs": [],
   "source": [
    "def fix_Y_coords(SHEET):\n",
    "    new_Y = []\n",
    "    for i in SHEET['COORD. Y'].apply(str):\n",
    "        numbers = filter(str.isdigit, i)\n",
    "        numeric_string = \"\".join(numbers)\n",
    "        numeric_string = numeric_string.replace(\".\", \"\", 10)\n",
    "        numeric_string = numeric_string.replace(\"-\", \"\")\n",
    "        numeric_string = numeric_string.replace(\":\", \"\")\n",
    "        numeric_string = numeric_string.replace(\"_\", \"\")\n",
    "        numeric_string = numeric_string.replace(\",\", \"\")\n",
    "        numeric_string = numeric_string.replace(\"°\", \"\")\n",
    "        meters_proj = numeric_string\n",
    "        if numeric_string[:2] == \"-5\" or numeric_string[:1] == \"5\" or numeric_string[:2] == \"+5\" or numeric_string[:2] == \"05\": ## or 5 for Y_coord, 2 for X_coord \n",
    "            numeric_string = numeric_string.replace(\" \", \"\", 10)\n",
    "            numeric_string = numeric_string.replace(\"_\", \"\", 10)\n",
    "            neg_numeric_string = \"-\" + numeric_string\n",
    "            coord = neg_numeric_string[:3] + \".\" + neg_numeric_string[3:]\n",
    "            new_Y.append(coord)\n",
    "        else:\n",
    "            coord = meters_proj + \"m\"\n",
    "            new_Y.append(coord)\n",
    "    SHEET[\"Y_coord\"] = new_Y   \n",
    "    return(SHEET)"
   ]
  },
  {
   "cell_type": "code",
   "execution_count": null,
   "id": "6a5981d3",
   "metadata": {},
   "outputs": [],
   "source": []
  }
 ],
 "metadata": {
  "kernelspec": {
   "display_name": "Python 3 (ipykernel)",
   "language": "python",
   "name": "python3"
  },
  "language_info": {
   "codemirror_mode": {
    "name": "ipython",
    "version": 3
   },
   "file_extension": ".py",
   "mimetype": "text/x-python",
   "name": "python",
   "nbconvert_exporter": "python",
   "pygments_lexer": "ipython3",
   "version": "3.9.7"
  }
 },
 "nbformat": 4,
 "nbformat_minor": 5
}
